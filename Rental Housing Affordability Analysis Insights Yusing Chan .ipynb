{
 "cells": [
  {
   "cell_type": "markdown",
   "metadata": {},
   "source": [
    "# Rental Housing Affordability Analysis - Yusing Chan\n",
    "# Problem\n",
    "Do high income inequality and low high school graduation rate decrease rental housing affordability for Americans? \n",
    "\n",
    "\n",
    "\n",
    "# Context \n",
    "Income inequality is an increasingly urgent issue today.  Education is an important component for obtaining employment and income, and it's difficult to do so without one. The price of rental housing has been increasing, together with stagnant income, housing has become more and more unaffordable for most Americans. \n",
    "\n",
    "# Summary\n",
    "\n",
    "# Metrics/Methodology \n",
    "\n",
    "1. Household income Distribution is measured by income skewness coefficient calculated with Pearson's skewness formula: 3*(mean - median)/ standard deviation. A coefficient higher than 1 means the data is highly skewed, or in this case, income is not distributed evenly. \n",
    "\n",
    "\n",
    "2. Rent affordability is measured by rent GT30 and rent GT50. \n",
    "        Rent GT 30 is the empirical distribution value that an individual’s rent was greater than 30% of their household income in the past 12 months. \n",
    "        Rent GT 50 is the empirical distribution value that an individual’s rent was greater than 50% of their household income in the past 12 months. \n",
    "\n",
    "3. High School Graduation Rate: \n",
    "The national average high school graduation rate is 89%.\n",
    "\n",
    "\n",
    "\n",
    "\n"
   ]
  },
  {
   "cell_type": "code",
   "execution_count": 2,
   "metadata": {},
   "outputs": [],
   "source": [
    "import matplotlib as mpl\n",
    "import matplotlib.pyplot as plt\n",
    "import matplotlib.dates as md\n",
    "from matplotlib.dates import DateFormatter\n",
    "import seaborn as sns\n",
    "import pandas as pd\n",
    "import statsmodels.api as sm\n",
    "import numpy as np\n",
    "import scipy.stats as stats\n",
    "\n",
    "%matplotlib inline\n",
    "\n",
    "pd.options.display.float_format = '{:.1%}'.format"
   ]
  },
  {
   "cell_type": "code",
   "execution_count": 5,
   "metadata": {},
   "outputs": [
    {
     "name": "stdout",
     "output_type": "stream",
     "text": [
      "(39030, 20)\n"
     ]
    }
   ],
   "source": [
    "df = pd.read_csv('real_estate_db_edited.csv',encoding='latin-1') \n",
    "print(df.shape)\n",
    "#explain rows and columns "
   ]
  },
  {
   "cell_type": "markdown",
   "metadata": {},
   "source": [
    "# Data Cleansing"
   ]
  },
  {
   "cell_type": "code",
   "execution_count": 7,
   "metadata": {},
   "outputs": [
    {
     "data": {
      "text/plain": [
       "state                   0\n",
       "city                    0\n",
       "zip_code                0\n",
       "lat                     0\n",
       "lng                     0\n",
       "rent_mean             462\n",
       "rent_median           462\n",
       "rent_stdev            462\n",
       "rent_sample_weight    462\n",
       "rent_samples          462\n",
       "rent_gt_30            463\n",
       "rent_gt_50            463\n",
       "hi_mean               390\n",
       "hi_median             390\n",
       "hi_stdev              390\n",
       "hi_sample_weight      390\n",
       "hi_samples            390\n",
       "hs_degree             275\n",
       "hs_degree_male        289\n",
       "hs_degree_female      328\n",
       "dtype: int64"
      ]
     },
     "execution_count": 7,
     "metadata": {},
     "output_type": "execute_result"
    }
   ],
   "source": [
    "df.isna().sum()"
   ]
  },
  {
   "cell_type": "code",
   "execution_count": 8,
   "metadata": {},
   "outputs": [],
   "source": [
    "df.dropna(inplace=True)"
   ]
  },
  {
   "cell_type": "code",
   "execution_count": 9,
   "metadata": {
    "scrolled": true
   },
   "outputs": [
    {
     "data": {
      "text/plain": [
       "state                 0\n",
       "city                  0\n",
       "zip_code              0\n",
       "lat                   0\n",
       "lng                   0\n",
       "rent_mean             0\n",
       "rent_median           0\n",
       "rent_stdev            0\n",
       "rent_sample_weight    0\n",
       "rent_samples          0\n",
       "rent_gt_30            0\n",
       "rent_gt_50            0\n",
       "hi_mean               0\n",
       "hi_median             0\n",
       "hi_stdev              0\n",
       "hi_sample_weight      0\n",
       "hi_samples            0\n",
       "hs_degree             0\n",
       "hs_degree_male        0\n",
       "hs_degree_female      0\n",
       "dtype: int64"
      ]
     },
     "execution_count": 9,
     "metadata": {},
     "output_type": "execute_result"
    }
   ],
   "source": [
    "df.isna().sum()"
   ]
  },
  {
   "cell_type": "code",
   "execution_count": 10,
   "metadata": {},
   "outputs": [
    {
     "name": "stdout",
     "output_type": "stream",
     "text": [
      "(38552, 20)\n"
     ]
    }
   ],
   "source": [
    "print(df.shape)"
   ]
  },
  {
   "cell_type": "markdown",
   "metadata": {},
   "source": [
    "# Metric 1: High School Graduation Rate\n",
    "\n",
    "The national average high school graduation rate is 89%.\n",
    "\n",
    "Do states with higher graduation rate have higher income?"
   ]
  },
  {
   "cell_type": "markdown",
   "metadata": {},
   "source": [
    "# Median Hish School Graduation Rate Per State"
   ]
  },
  {
   "cell_type": "code",
   "execution_count": 12,
   "metadata": {},
   "outputs": [
    {
     "name": "stdout",
     "output_type": "stream",
     "text": [
      "The overall median high school graduation rate for all states in the dataset is 89%\n"
     ]
    }
   ],
   "source": [
    "hs_all=\"{:.0%}\".format(round(df.loc[:,\"hs_degree\"].median(),2))\n",
    "print(\"The overall median high school graduation rate for all states in the dataset is \" + str(hs_all)) "
   ]
  },
  {
   "cell_type": "code",
   "execution_count": 1,
   "metadata": {
    "scrolled": true
   },
   "outputs": [
    {
     "ename": "NameError",
     "evalue": "name 'hs' is not defined",
     "output_type": "error",
     "traceback": [
      "\u001b[0;31m---------------------------------------------------------------------------\u001b[0m",
      "\u001b[0;31mNameError\u001b[0m                                 Traceback (most recent call last)",
      "\u001b[0;32m<ipython-input-1-90b3c5565c22>\u001b[0m in \u001b[0;36m<module>\u001b[0;34m\u001b[0m\n\u001b[0;32m----> 1\u001b[0;31m \u001b[0mhs\u001b[0m\u001b[0;34m.\u001b[0m\u001b[0mstyle\u001b[0m\u001b[0;34m.\u001b[0m\u001b[0mset_precision\u001b[0m\u001b[0;34m(\u001b[0m\u001b[0;36m2\u001b[0m\u001b[0;34m)\u001b[0m\u001b[0;34m\u001b[0m\u001b[0;34m\u001b[0m\u001b[0m\n\u001b[0m\u001b[1;32m      2\u001b[0m \u001b[0mhs\u001b[0m\u001b[0;34m=\u001b[0m\u001b[0mdf\u001b[0m\u001b[0;34m.\u001b[0m\u001b[0mgroupby\u001b[0m\u001b[0;34m(\u001b[0m\u001b[0;34m'state'\u001b[0m\u001b[0;34m)\u001b[0m\u001b[0;34m[\u001b[0m\u001b[0;34m'hs_degree'\u001b[0m\u001b[0;34m]\u001b[0m\u001b[0;34m.\u001b[0m\u001b[0mmedian\u001b[0m\u001b[0;34m(\u001b[0m\u001b[0;34m)\u001b[0m\u001b[0;34m.\u001b[0m\u001b[0mreset_index\u001b[0m\u001b[0;34m(\u001b[0m\u001b[0;34m)\u001b[0m\u001b[0;34m\u001b[0m\u001b[0;34m\u001b[0m\u001b[0m\n\u001b[1;32m      3\u001b[0m \u001b[0mhs\u001b[0m\u001b[0;34m.\u001b[0m\u001b[0msort_values\u001b[0m\u001b[0;34m(\u001b[0m\u001b[0mby\u001b[0m\u001b[0;34m=\u001b[0m\u001b[0;34m[\u001b[0m\u001b[0;34m'hs_degree'\u001b[0m\u001b[0;34m]\u001b[0m\u001b[0;34m,\u001b[0m \u001b[0mascending\u001b[0m\u001b[0;34m=\u001b[0m\u001b[0;32mFalse\u001b[0m\u001b[0;34m,\u001b[0m \u001b[0minplace\u001b[0m\u001b[0;34m=\u001b[0m\u001b[0;32mTrue\u001b[0m\u001b[0;34m)\u001b[0m\u001b[0;34m\u001b[0m\u001b[0;34m\u001b[0m\u001b[0m\n\u001b[1;32m      4\u001b[0m \u001b[0mhs\u001b[0m\u001b[0;34m.\u001b[0m\u001b[0mstyle\u001b[0m\u001b[0;34m.\u001b[0m\u001b[0mhide_index\u001b[0m\u001b[0;34m(\u001b[0m\u001b[0;34m)\u001b[0m\u001b[0;34m\u001b[0m\u001b[0;34m\u001b[0m\u001b[0m\n\u001b[1;32m      5\u001b[0m \u001b[0mhs\u001b[0m\u001b[0;34m\u001b[0m\u001b[0;34m\u001b[0m\u001b[0m\n",
      "\u001b[0;31mNameError\u001b[0m: name 'hs' is not defined"
     ]
    }
   ],
   "source": [
    "hs.style.set_precision(2)\n",
    "hs=df.groupby('state')['hs_degree'].median().reset_index()\n",
    "hs.sort_values(by=['hs_degree'], ascending=False, inplace=True)\n",
    "hs.style.hide_index()\n",
    "hs"
   ]
  },
  {
   "cell_type": "markdown",
   "metadata": {},
   "source": [
    "# High School Graduation Rate male and female comparison "
   ]
  },
  {
   "cell_type": "code",
   "execution_count": null,
   "metadata": {
    "scrolled": true
   },
   "outputs": [],
   "source": [
    "hss=df.groupby('state')['hs_degree_male', 'hs_degree_female'].median().reset_index()\n",
    "hss.sort_values(by=['hs_degree_female'], ascending=False, inplace=True)\n",
    "hss"
   ]
  },
  {
   "cell_type": "markdown",
   "metadata": {},
   "source": [
    "## Insights: <span style=\"color:green\">\n",
    "\n",
    "There isn't a strong difference between female and male high school graduation rate across states."
   ]
  },
  {
   "cell_type": "markdown",
   "metadata": {},
   "source": [
    "# Metric 2: Rent affordability measured by rent GT30 and rent GT50.\n",
    "\n",
    "How much do people spend on rent as a percentage of their income?\n",
    "\n",
    "Do people from states with lower high school graduation rate tend to spend more of their income on rent?\n",
    "\n",
    "Rent GT 30 Per State: Rent GT 30 is the empirical distribution value that an individual’s rent was greater than 30% of their household income in the past 12 months.\n",
    "\n",
    "Rent GT 50 Per State: Rent GT 50 is the empirical distribution value that an individual’s rent was greater than 50% of their household income in the past 12 months."
   ]
  },
  {
   "cell_type": "code",
   "execution_count": null,
   "metadata": {
    "scrolled": true
   },
   "outputs": [],
   "source": [
    "r30=df.groupby('state')['rent_gt_30'].median().reset_index()\n",
    "r30.sort_values(by=['rent_gt_30'], ascending=False, inplace=True)\n",
    "r30"
   ]
  },
  {
   "cell_type": "code",
   "execution_count": 14,
   "metadata": {
    "scrolled": true
   },
   "outputs": [
    {
     "data": {
      "text/html": [
       "<div>\n",
       "<style scoped>\n",
       "    .dataframe tbody tr th:only-of-type {\n",
       "        vertical-align: middle;\n",
       "    }\n",
       "\n",
       "    .dataframe tbody tr th {\n",
       "        vertical-align: top;\n",
       "    }\n",
       "\n",
       "    .dataframe thead th {\n",
       "        text-align: right;\n",
       "    }\n",
       "</style>\n",
       "<table border=\"1\" class=\"dataframe\">\n",
       "  <thead>\n",
       "    <tr style=\"text-align: right;\">\n",
       "      <th></th>\n",
       "      <th>state</th>\n",
       "      <th>rent_gt_50</th>\n",
       "    </tr>\n",
       "  </thead>\n",
       "  <tbody>\n",
       "    <tr>\n",
       "      <th>39</th>\n",
       "      <td>Puerto Rico</td>\n",
       "      <td>32.2%</td>\n",
       "    </tr>\n",
       "    <tr>\n",
       "      <th>4</th>\n",
       "      <td>California</td>\n",
       "      <td>28.7%</td>\n",
       "    </tr>\n",
       "    <tr>\n",
       "      <th>32</th>\n",
       "      <td>New York</td>\n",
       "      <td>28.6%</td>\n",
       "    </tr>\n",
       "    <tr>\n",
       "      <th>9</th>\n",
       "      <td>Florida</td>\n",
       "      <td>28.0%</td>\n",
       "    </tr>\n",
       "    <tr>\n",
       "      <th>37</th>\n",
       "      <td>Oregon</td>\n",
       "      <td>27.6%</td>\n",
       "    </tr>\n",
       "    <tr>\n",
       "      <th>18</th>\n",
       "      <td>Louisiana</td>\n",
       "      <td>27.4%</td>\n",
       "    </tr>\n",
       "    <tr>\n",
       "      <th>11</th>\n",
       "      <td>Hawaii</td>\n",
       "      <td>27.3%</td>\n",
       "    </tr>\n",
       "    <tr>\n",
       "      <th>30</th>\n",
       "      <td>New Jersey</td>\n",
       "      <td>26.9%</td>\n",
       "    </tr>\n",
       "    <tr>\n",
       "      <th>22</th>\n",
       "      <td>Michigan</td>\n",
       "      <td>26.7%</td>\n",
       "    </tr>\n",
       "    <tr>\n",
       "      <th>24</th>\n",
       "      <td>Mississippi</td>\n",
       "      <td>26.5%</td>\n",
       "    </tr>\n",
       "  </tbody>\n",
       "</table>\n",
       "</div>"
      ],
      "text/plain": [
       "          state  rent_gt_50\n",
       "39  Puerto Rico       32.2%\n",
       "4    California       28.7%\n",
       "32     New York       28.6%\n",
       "9       Florida       28.0%\n",
       "37       Oregon       27.6%\n",
       "18    Louisiana       27.4%\n",
       "11       Hawaii       27.3%\n",
       "30   New Jersey       26.9%\n",
       "22     Michigan       26.7%\n",
       "24  Mississippi       26.5%"
      ]
     },
     "execution_count": 14,
     "metadata": {},
     "output_type": "execute_result"
    }
   ],
   "source": [
    "r50=df.groupby('state')['rent_gt_50'].median().reset_index()\n",
    "r50.sort_values(by=['rent_gt_50'], ascending=False, inplace=True)\n",
    "r50.head(10)"
   ]
  },
  {
   "cell_type": "markdown",
   "metadata": {},
   "source": [
    "# Metric 3: Income Skewness Coefficient \n",
    "\n",
    "Pearson’s skewness: 3*(mean - median)/standard deviation \n",
    "\n",
    "Do states with lower high school graduation rate have higher income skewness coefficient?\n",
    "\n",
    "Do states with higher income skewness coefficient have higher rent GT30? "
   ]
  },
  {
   "cell_type": "code",
   "execution_count": null,
   "metadata": {
    "scrolled": true
   },
   "outputs": [],
   "source": [
    "df['skewness'] = 3*(df.hi_mean - df.hi_median)/df.hi_stdev\n",
    "income=df.groupby('state')['hi_mean','hi_median','skewness'].median().reset_index()\n",
    "income.sort_values(by=['skewness'], ascending=False, inplace=True)\n",
    "income"
   ]
  },
  {
   "cell_type": "markdown",
   "metadata": {},
   "source": [
    "## Insights: <span style=\"color:green\">\n",
    "\n",
    "States with lower median household income tend to have higher skewness coefficent meaning income is not distrubuted evenly but instead concentrated. \n",
    "Median Income Histograms Comparison Between Three States with Different Skewness Coefficient: Louisiana - high, California - Medium, Massachusetts - Low "
   ]
  },
  {
   "cell_type": "code",
   "execution_count": null,
   "metadata": {
    "scrolled": false
   },
   "outputs": [],
   "source": [
    "L=df['state']=='Louisiana'\n",
    "C=df['state']=='California'\n",
    "M=df['state']=='Massachusetts'\n",
    "df_L = df[L]\n",
    "df_C = df[C]\n",
    "df_M = df[M]\n",
    "\n",
    "plt.figure(figsize=(30,10))\n",
    "sns.distplot(df_L['hi_median'], label='Louisiana', bins = 30)\n",
    "sns.distplot(df_C['hi_median'], label='California', bins = 30)\n",
    "sns.distplot(df_M['hi_median'], label='Massachusetts', bins = 30)\n",
    "\n",
    "plt.title('Median Household Income Histograms', size = 30)\n",
    "plt.xlabel('Median Household Income Bin', size = 25)\n",
    "plt.ylabel('Frequency', size = 25)\n",
    "plt.legend(loc='upper right', fontsize=25)\n",
    "plt.xticks(fontsize=20)\n",
    "plt.yticks(fontsize=20)"
   ]
  },
  {
   "cell_type": "markdown",
   "metadata": {},
   "source": [
    "## Insights: <span style=\"color:green\">\n",
    "\n",
    "Louisiana has an income skewness coefficient of 0.838 which is reflected in the histogram here where the data is concentrated on the lower end of income spectrum. The majority of people from earn low wages. \n",
    "\n",
    "California has an income skewness coefficient of 0.717 which is lower than Louisiana and is relfected in the histogram where there are more distributions of higher income. \n",
    "\n",
    "Massachusetts has an income skewness coefficient of 0.685 which is relfected in the histogram where the data is less concentrated on the lower end and it's less steep. The majoarity of people from Massachusetts are eaning decent income."
   ]
  },
  {
   "cell_type": "markdown",
   "metadata": {},
   "source": [
    "# Louisiana Income Map"
   ]
  },
  {
   "cell_type": "code",
   "execution_count": null,
   "metadata": {
    "scrolled": true
   },
   "outputs": [],
   "source": [
    "df_L.plot(kind=\"scatter\", x=\"lng\", y=\"lat\",\n",
    "          s=df_L['hi_median']/400,label=\"Louisiana Median Household Income\",\n",
    "          c=\"hi_median\", cmap=plt.get_cmap(\"jet\"),\n",
    "          colorbar=True, alpha=0.2, figsize=(15,10),\n",
    ")\n",
    "plt.legend()\n",
    "plt.show()"
   ]
  },
  {
   "cell_type": "markdown",
   "metadata": {},
   "source": [
    "# Insights\n",
    "\n",
    "Lower income throught the state with few high income hotspots."
   ]
  },
  {
   "cell_type": "markdown",
   "metadata": {},
   "source": [
    "# California Income Map"
   ]
  },
  {
   "cell_type": "code",
   "execution_count": null,
   "metadata": {
    "scrolled": true
   },
   "outputs": [],
   "source": [
    "df_C.plot(kind=\"scatter\", x=\"lng\", y=\"lat\",\n",
    "          s=df_C['hi_median']/400,label=\"California Median Household Income\",\n",
    "          c=\"hi_median\", cmap=plt.get_cmap(\"jet\"),\n",
    "          colorbar=True, alpha=0.2, figsize=(15,10),\n",
    ")\n",
    "plt.legend()\n",
    "plt.show()"
   ]
  },
  {
   "cell_type": "markdown",
   "metadata": {},
   "source": [
    "# Insights\n",
    "\n",
    "High incomes are concentrated around SF and LA areas. "
   ]
  },
  {
   "cell_type": "markdown",
   "metadata": {},
   "source": [
    "# Massachusetts Income Map"
   ]
  },
  {
   "cell_type": "code",
   "execution_count": null,
   "metadata": {
    "scrolled": false
   },
   "outputs": [],
   "source": [
    "df_M.plot(kind=\"scatter\", x=\"lng\", y=\"lat\",\n",
    "          s=df_M['hi_median']/400,label=\"Massachusetts Median Household Income\",\n",
    "          c=\"hi_median\", cmap=plt.get_cmap(\"jet\"),\n",
    "          colorbar=True, alpha=0.2, figsize=(15,10),\n",
    ")\n",
    "plt.legend()\n",
    "plt.show()"
   ]
  },
  {
   "cell_type": "markdown",
   "metadata": {},
   "source": [
    "# Insights\n",
    "\n",
    "High incomes are concentrated around Boston area. Fewer low income clusters."
   ]
  },
  {
   "cell_type": "code",
   "execution_count": null,
   "metadata": {},
   "outputs": [],
   "source": [
    "# Louisiana Variable Analysis\n",
    "\n",
    "df_L.plot(kind=\"scatter\", x=\"hs_degree\", y=\"skewness\",\n",
    "          s=df_L['skewness']*40,label=\"Louisiana Variables Analysis\",\n",
    "          c=\"hs_degree\", cmap=plt.get_cmap(\"jet\"),\n",
    "          colorbar=True, alpha=0.4, figsize=(15,10),\n",
    ")\n",
    "plt.legend()\n",
    "plt.show()"
   ]
  },
  {
   "cell_type": "code",
   "execution_count": null,
   "metadata": {},
   "outputs": [],
   "source": [
    "# California Variable Analysis\n",
    "\n",
    "df_C.plot(kind=\"scatter\", x=\"hs_degree\", y=\"skewness\",\n",
    "          s=df_C['skewness']*40,label=\"California Variables Analysis\",\n",
    "          c=\"hs_degree\", cmap=plt.get_cmap(\"jet\"),\n",
    "          colorbar=True, alpha=0.4, figsize=(15,10),\n",
    ")\n",
    "plt.legend()\n",
    "plt.show()"
   ]
  },
  {
   "cell_type": "code",
   "execution_count": null,
   "metadata": {
    "scrolled": false
   },
   "outputs": [],
   "source": [
    "# Massachusetts Variable Analysis\n",
    "\n",
    "df_M.plot(kind=\"scatter\", x=\"hs_degree\", y=\"skewness\",\n",
    "          s=df_M['skewness']*40,label=\"Massachusetts Variables Analysis\",\n",
    "          c=\"hs_degree\", cmap=plt.get_cmap(\"jet\"),\n",
    "          colorbar=True, alpha=0.4, figsize=(15,10),\n",
    ")\n",
    "plt.legend(frameon=False)\n",
    "plt.show()"
   ]
  },
  {
   "cell_type": "code",
   "execution_count": null,
   "metadata": {},
   "outputs": [],
   "source": [
    "# Louisiana Variable Analysis\n",
    "sns.set(style=\"white\")\n",
    "sns.jointplot(x=\"hs_degree\", y=\"skewness\", data=df_L, kind=\"reg\").annotate(stats.pearsonr)"
   ]
  },
  {
   "cell_type": "code",
   "execution_count": null,
   "metadata": {},
   "outputs": [],
   "source": [
    "# California Variable Analysis\n",
    "sns.set(style=\"white\")\n",
    "sns.jointplot(x=\"hs_degree\", y=\"skewness\", data=df_C, kind=\"reg\").annotate(stats.pearsonr)"
   ]
  },
  {
   "cell_type": "code",
   "execution_count": null,
   "metadata": {},
   "outputs": [],
   "source": [
    "# Massachusetts Variable Analysis\n",
    "sns.set(style=\"white\")\n",
    "sns.jointplot(x=\"hs_degree\", y=\"skewness\", data=df_M, kind=\"reg\").annotate(stats.pearsonr)"
   ]
  },
  {
   "cell_type": "markdown",
   "metadata": {},
   "source": [
    "# Conclusions\n",
    "\n",
    "1. Education\n",
    "In today's competitive market, a high school diploma is a bare minimum requirement. A college education is often required to obtain employment. Places with lower graduation rates tend to have higher inequality. Probably because people without the degree mostly work at jobs that pay minimum wages where room for income raise is limited. In todat's competitive market, high school diploma is the minimum requirement. Often times college education is required. \n",
    "\n",
    "Why do some states have lower graduation rate?\n",
    "\n",
    "\n",
    "\n",
    "2. Income Equality\n",
    "Income inequality is hurting people with and without education. It's also diminishing the range of the middle class, and making it extremely difficult for the poor to move upward. Income inequality is hurting people with and without education. \n",
    "\n",
    "Why do some states have higher income inequality?\n",
    "\n",
    "\n",
    "\n",
    "3. Rent Control\n",
    "A lack of rent control and concentrated wealth have allowed rent prices to spike in metropolitan areas, gentrified neighborhoods, and dispersed long-term residents. In certain areas, more than 80% of the residents with education and high income still spent more than 30% of their income on rent. \n",
    "\n",
    "Who do some states have more affordable rentals?"
   ]
  },
  {
   "cell_type": "code",
   "execution_count": null,
   "metadata": {},
   "outputs": [],
   "source": []
  }
 ],
 "metadata": {
  "kernelspec": {
   "display_name": "Python 3",
   "language": "python",
   "name": "python3"
  },
  "language_info": {
   "codemirror_mode": {
    "name": "ipython",
    "version": 3
   },
   "file_extension": ".py",
   "mimetype": "text/x-python",
   "name": "python",
   "nbconvert_exporter": "python",
   "pygments_lexer": "ipython3",
   "version": "3.7.6"
  }
 },
 "nbformat": 4,
 "nbformat_minor": 4
}
